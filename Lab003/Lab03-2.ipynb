{
 "cells": [
  {
   "cell_type": "code",
   "execution_count": 1,
   "id": "f70c07bf",
   "metadata": {},
   "outputs": [],
   "source": [
    "import random\n",
    "import math\n",
    "import matplotlib.pyplot as plt"
   ]
  },
  {
   "cell_type": "code",
   "execution_count": 2,
   "id": "452bf659",
   "metadata": {},
   "outputs": [],
   "source": [
    "pi = math.pi "
   ]
  },
  {
   "cell_type": "code",
   "execution_count": 16,
   "id": "f738b35c",
   "metadata": {},
   "outputs": [
    {
     "name": "stdout",
     "output_type": "stream",
     "text": [
      "please input a convergence criteria: 2\n",
      "please input the maximum cycle: 3\n",
      "1e-05\n"
     ]
    }
   ],
   "source": [
    "criterion = float(input(\"please input a convergence criteria: \"))\n",
    "count = int(input(\"please input the maximum cycle: \"))\n",
    "n = 0 \n",
    "count = 1\n",
    "d = 0 \n",
    "d += 1\n",
    "ratio = 4 * n * 1./d\n",
    "print (i)\n",
    "while (abs(ratio-pi) / pi > criterion):\n",
    "    x = random.random()\n",
    "    y = random.random()\n",
    "    count +=1\n",
    "    if x**2 + y**2 <= 1.0:\n",
    "        n += 1\n",
    "    d += 1\n",
    "    ratio = 4 * n * 1./d\n",
    "    print(\"ratio: \", ratio)\n",
    "    print(\"Draws needed: \", d)\n",
    "    if count == 10:\n",
    "        print(\"reach the maximum cycles\")\n",
    "        break"
   ]
  },
  {
   "cell_type": "code",
   "execution_count": 15,
   "id": "6371ef1f",
   "metadata": {},
   "outputs": [
    {
     "name": "stdout",
     "output_type": "stream",
     "text": [
      "0.01\n",
      "ratio:  2.0\n",
      "Draws needed:  2\n",
      "ratio:  1.3333333333333333\n",
      "Draws needed:  3\n",
      "ratio:  2.0\n",
      "Draws needed:  4\n",
      "ratio:  2.4\n",
      "Draws needed:  5\n",
      "ratio:  2.6666666666666665\n",
      "Draws needed:  6\n",
      "ratio:  2.857142857142857\n",
      "Draws needed:  7\n",
      "ratio:  3.0\n",
      "Draws needed:  8\n",
      "ratio:  3.111111111111111\n",
      "Draws needed:  9\n",
      "0.001\n",
      "ratio:  2.0\n",
      "Draws needed:  2\n",
      "ratio:  2.6666666666666665\n",
      "Draws needed:  3\n",
      "ratio:  3.0\n",
      "Draws needed:  4\n",
      "ratio:  3.2\n",
      "Draws needed:  5\n",
      "ratio:  3.3333333333333335\n",
      "Draws needed:  6\n",
      "ratio:  3.4285714285714284\n",
      "Draws needed:  7\n",
      "ratio:  3.5\n",
      "Draws needed:  8\n",
      "ratio:  3.5555555555555554\n",
      "Draws needed:  9\n",
      "ratio:  3.2\n",
      "Draws needed:  10\n",
      "reach the maximum cycles\n",
      "0.0001\n",
      "ratio:  2.0\n",
      "Draws needed:  2\n",
      "ratio:  2.6666666666666665\n",
      "Draws needed:  3\n",
      "ratio:  3.0\n",
      "Draws needed:  4\n",
      "ratio:  3.2\n",
      "Draws needed:  5\n",
      "ratio:  3.3333333333333335\n",
      "Draws needed:  6\n",
      "ratio:  3.4285714285714284\n",
      "Draws needed:  7\n",
      "ratio:  3.5\n",
      "Draws needed:  8\n",
      "ratio:  3.5555555555555554\n",
      "Draws needed:  9\n",
      "ratio:  3.6\n",
      "Draws needed:  10\n",
      "reach the maximum cycles\n",
      "1e-05\n",
      "ratio:  2.0\n",
      "Draws needed:  2\n",
      "ratio:  2.6666666666666665\n",
      "Draws needed:  3\n",
      "ratio:  3.0\n",
      "Draws needed:  4\n",
      "ratio:  3.2\n",
      "Draws needed:  5\n",
      "ratio:  3.3333333333333335\n",
      "Draws needed:  6\n",
      "ratio:  2.857142857142857\n",
      "Draws needed:  7\n",
      "ratio:  3.0\n",
      "Draws needed:  8\n",
      "ratio:  2.6666666666666665\n",
      "Draws needed:  9\n",
      "ratio:  2.4\n",
      "Draws needed:  10\n",
      "reach the maximum cycles\n"
     ]
    }
   ],
   "source": [
    "v=[0.01, 0.001, 0.0001, 0.00001] \n",
    "for i in v:\n",
    "    n = 0 \n",
    "    count = 1\n",
    "    d = 0 \n",
    "    d += 1\n",
    "    ratio = 4 * n * 1./d\n",
    "    print (i)\n",
    "    while (abs(ratio-pi) / pi > i):\n",
    "        x = random.random()\n",
    "        y = random.random()\n",
    "        count +=1\n",
    "        if x**2 + y**2 <= 1.0:\n",
    "            n += 1\n",
    "        d += 1\n",
    "        ratio = 4 * n * 1./d\n",
    "        print(\"ratio: \", ratio)\n",
    "        print(\"Draws needed: \", d)\n",
    "        if count == 10:\n",
    "            print(\"reach the maximum cycles\")\n",
    "            break"
   ]
  },
  {
   "cell_type": "code",
   "execution_count": null,
   "id": "705d2262",
   "metadata": {},
   "outputs": [],
   "source": []
  }
 ],
 "metadata": {
  "kernelspec": {
   "display_name": "Python 3 (ipykernel)",
   "language": "python",
   "name": "python3"
  },
  "language_info": {
   "codemirror_mode": {
    "name": "ipython",
    "version": 3
   },
   "file_extension": ".py",
   "mimetype": "text/x-python",
   "name": "python",
   "nbconvert_exporter": "python",
   "pygments_lexer": "ipython3",
   "version": "3.9.7"
  }
 },
 "nbformat": 4,
 "nbformat_minor": 5
}
