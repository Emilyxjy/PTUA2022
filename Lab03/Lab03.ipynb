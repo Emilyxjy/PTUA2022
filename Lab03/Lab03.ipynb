{
 "cells": [
  {
   "cell_type": "code",
   "execution_count": null,
   "id": "ecaf9b56",
   "metadata": {},
   "outputs": [],
   "source": [
    "#chapter2 exercise1"
   ]
  },
  {
   "cell_type": "code",
   "execution_count": 142,
   "id": "8cccf1e6",
   "metadata": {},
   "outputs": [],
   "source": [
    "n=42"
   ]
  },
  {
   "cell_type": "code",
   "execution_count": 143,
   "id": "ce4029ad",
   "metadata": {},
   "outputs": [
    {
     "ename": "SyntaxError",
     "evalue": "cannot assign to literal (1956984606.py, line 1)",
     "output_type": "error",
     "traceback": [
      "\u001b[0;36m  File \u001b[0;32m\"/var/folders/9_/0m10cd4j1x11ddwhq6hwrm500000gn/T/ipykernel_47823/1956984606.py\"\u001b[0;36m, line \u001b[0;32m1\u001b[0m\n\u001b[0;31m    42=n\u001b[0m\n\u001b[0m    ^\u001b[0m\n\u001b[0;31mSyntaxError\u001b[0m\u001b[0;31m:\u001b[0m cannot assign to literal\n"
     ]
    }
   ],
   "source": [
    "42=n"
   ]
  },
  {
   "cell_type": "code",
   "execution_count": 144,
   "id": "9acf9ba5",
   "metadata": {},
   "outputs": [],
   "source": [
    "x=y=1"
   ]
  },
  {
   "cell_type": "code",
   "execution_count": 145,
   "id": "d6acc06e",
   "metadata": {},
   "outputs": [],
   "source": [
    "m=5;"
   ]
  },
  {
   "cell_type": "code",
   "execution_count": 146,
   "id": "f04599cc",
   "metadata": {},
   "outputs": [],
   "source": [
    "m=5."
   ]
  },
  {
   "cell_type": "markdown",
   "id": "38162344",
   "metadata": {},
   "source": [
    "xy"
   ]
  },
  {
   "cell_type": "code",
   "execution_count": 147,
   "id": "90fa9c99",
   "metadata": {},
   "outputs": [
    {
     "data": {
      "text/plain": [
       "1"
      ]
     },
     "execution_count": 147,
     "metadata": {},
     "output_type": "execute_result"
    }
   ],
   "source": [
    "x*y\n"
   ]
  },
  {
   "cell_type": "code",
   "execution_count": 148,
   "id": "66d5308a",
   "metadata": {},
   "outputs": [],
   "source": [
    "#chapter2 exercise2"
   ]
  },
  {
   "cell_type": "code",
   "execution_count": 1,
   "id": "163a157d",
   "metadata": {},
   "outputs": [
    {
     "name": "stdout",
     "output_type": "stream",
     "text": [
      "volume of a sphere with radius 5=  523.5987755982989\n"
     ]
    }
   ],
   "source": [
    "import math\n",
    "r=5\n",
    "V= 4/3*math.pi*r**3\n",
    "print('volume of a sphere with radius 5= ',str(V))"
   ]
  },
  {
   "cell_type": "code",
   "execution_count": 2,
   "id": "8e226997",
   "metadata": {},
   "outputs": [
    {
     "name": "stdout",
     "output_type": "stream",
     "text": [
      "total wholesale cost for 60 copies = 646.0500000000001\n"
     ]
    }
   ],
   "source": [
    "n=60;\n",
    "W=(24.95*0.4)*n+3+0.75*(n-1);\n",
    "print('total wholesale cost for 60 copies =', str (W))"
   ]
  },
  {
   "cell_type": "code",
   "execution_count": 154,
   "id": "6bcdd96b",
   "metadata": {},
   "outputs": [
    {
     "name": "stdout",
     "output_type": "stream",
     "text": [
      " time to get home for breakfast 7 : 30 : 6\n"
     ]
    }
   ],
   "source": [
    "import math\n",
    "hour=6\n",
    "minute=52+8*2+7*3;\n",
    "second=15*2+12*3;\n",
    "if second>=60:\n",
    "    minute=minute+math.floor(second/60)\n",
    "    second=second-60\n",
    "    \n",
    "if minute>=60:\n",
    "    hour=hour+math.floor(minute/60)\n",
    "    minute=minute-60\n",
    "    \n",
    "print(' time to get home for breakfast',int(hour),':',int(minute),':',int(second),)\n"
   ]
  },
  {
   "cell_type": "code",
   "execution_count": 155,
   "id": "9ef1fe42",
   "metadata": {},
   "outputs": [],
   "source": [
    "#chapter8 exercise1"
   ]
  },
  {
   "cell_type": "code",
   "execution_count": 3,
   "id": "02aa998e",
   "metadata": {},
   "outputs": [
    {
     "data": {
      "text/plain": [
       "'Hello'"
      ]
     },
     "execution_count": 3,
     "metadata": {},
     "output_type": "execute_result"
    }
   ],
   "source": [
    "str.capitalize('hello')"
   ]
  },
  {
   "cell_type": "code",
   "execution_count": 4,
   "id": "cf536733",
   "metadata": {},
   "outputs": [
    {
     "data": {
      "text/plain": [
       "'cbd'"
      ]
     },
     "execution_count": 4,
     "metadata": {},
     "output_type": "execute_result"
    }
   ],
   "source": [
    "str.casefold('CBD')"
   ]
  },
  {
   "cell_type": "code",
   "execution_count": 158,
   "id": "191dbee9",
   "metadata": {},
   "outputs": [
    {
     "name": "stdout",
     "output_type": "stream",
     "text": [
      "thwas was string example....wow!!! thwas was really string\n",
      "thwas was string example....wow!!! thwas is really string\n"
     ]
    }
   ],
   "source": [
    "str = \"this is string example....wow!!! this is really string\";\n",
    "print(str.replace(\"is\", \"was\"));\n",
    "print(str.replace(\"is\", \"was\", 3));\n"
   ]
  },
  {
   "cell_type": "code",
   "execution_count": 159,
   "id": "297b5692",
   "metadata": {},
   "outputs": [
    {
     "name": "stdout",
     "output_type": "stream",
     "text": [
      "spacious\n",
      "london\n",
      "example\n"
     ]
    }
   ],
   "source": [
    "print('     spacious      '.strip())\n",
    "print('www.london.uk'.strip('wuk.'))\n",
    "print('www.example.com'.strip('cmowz.'))"
   ]
  },
  {
   "cell_type": "code",
   "execution_count": 160,
   "id": "4967f908",
   "metadata": {},
   "outputs": [
    {
     "name": "stdout",
     "output_type": "stream",
     "text": [
      "3\n"
     ]
    }
   ],
   "source": [
    "word='banana'\n",
    "count=0\n",
    "for letter in word:\n",
    "    if letter =='a':\n",
    "        count=count+1\n",
    "print(count)"
   ]
  },
  {
   "cell_type": "code",
   "execution_count": 161,
   "id": "db9074eb",
   "metadata": {},
   "outputs": [
    {
     "data": {
      "text/plain": [
       "3"
      ]
     },
     "execution_count": 161,
     "metadata": {},
     "output_type": "execute_result"
    }
   ],
   "source": [
    "'banana'.count('a')"
   ]
  },
  {
   "cell_type": "code",
   "execution_count": 162,
   "id": "a5684f43",
   "metadata": {},
   "outputs": [
    {
     "name": "stdout",
     "output_type": "stream",
     "text": [
      "False\n",
      "True\n"
     ]
    }
   ],
   "source": [
    "def is_palindrome(word):\n",
    "    if word==word[::-1]:\n",
    "        return True\n",
    "    else:\n",
    "        return False\n",
    "print(is_palindrome('banana'))\n",
    "print(is_palindrome('otto'))\n"
   ]
  },
  {
   "cell_type": "code",
   "execution_count": 163,
   "id": "ef300218",
   "metadata": {},
   "outputs": [
    {
     "name": "stdout",
     "output_type": "stream",
     "text": [
      "True\n",
      "True\n",
      "False\n",
      "False\n"
     ]
    }
   ],
   "source": [
    "def any_lowercase1(s):\n",
    "    for c in s:\n",
    "        if c.islower():\n",
    "            return True\n",
    "        else:\n",
    "            return False\n",
    "print(any_lowercase1('banana'))\n",
    "print(any_lowercase1('bAnana'))\n",
    "print(any_lowercase1('Banana'))\n",
    "print(any_lowercase1('BANANA'))\n",
    "\n",
    "#Verify that the first letter is lowercase."
   ]
  },
  {
   "cell_type": "code",
   "execution_count": 164,
   "id": "7edd3f71",
   "metadata": {},
   "outputs": [
    {
     "name": "stdout",
     "output_type": "stream",
     "text": [
      "True\n",
      "True\n",
      "True\n",
      "True\n"
     ]
    }
   ],
   "source": [
    "def any_lowercase2(s):\n",
    "    for c in s:\n",
    "        if 'c'.islower():\n",
    "            return 'True'\n",
    "        else:\n",
    "            return 'False'\n",
    "print(any_lowercase2('banana'))\n",
    "print(any_lowercase2('bAnana'))\n",
    "print(any_lowercase2('Banana'))\n",
    "print(any_lowercase2('BANANA'))\n",
    "\n",
    "#Check to see if there is a letter c in the word and if the letter c is lowercase."
   ]
  },
  {
   "cell_type": "code",
   "execution_count": 165,
   "id": "7dc49e0f",
   "metadata": {},
   "outputs": [
    {
     "name": "stdout",
     "output_type": "stream",
     "text": [
      "True\n",
      "True\n",
      "True\n",
      "False\n"
     ]
    }
   ],
   "source": [
    "def any_lowercase3(s):\n",
    "    for c in s:\n",
    "        flag = c.islower()\n",
    "    return flag\n",
    "print(any_lowercase3('banana'))\n",
    "print(any_lowercase3('bAnana'))\n",
    "print(any_lowercase3('Banana'))\n",
    "print(any_lowercase3('BANANA'))\n",
    "\n",
    "\n",
    "#See if the word has lowercase in it."
   ]
  },
  {
   "cell_type": "code",
   "execution_count": 166,
   "id": "9b8782b0",
   "metadata": {},
   "outputs": [
    {
     "name": "stdout",
     "output_type": "stream",
     "text": [
      "True\n",
      "True\n",
      "True\n",
      "False\n"
     ]
    }
   ],
   "source": [
    "def any_lowercase4(s):\n",
    "    flag = False\n",
    "    for c in s:\n",
    "        flag = flag or c.islower()\n",
    "    return flag\n",
    "print(any_lowercase4('banana'))\n",
    "print(any_lowercase4('bAnana'))\n",
    "print(any_lowercase4('Banana'))\n",
    "print(any_lowercase4('BANANA'))\n",
    "\n",
    "##See if the word has lowercase in it."
   ]
  },
  {
   "cell_type": "code",
   "execution_count": 167,
   "id": "0bd3bd9f",
   "metadata": {},
   "outputs": [
    {
     "name": "stdout",
     "output_type": "stream",
     "text": [
      "True\n",
      "False\n",
      "False\n",
      "False\n"
     ]
    }
   ],
   "source": [
    "def any_lowercase5(s):\n",
    "    for c in s:\n",
    "        if not c.islower():\n",
    "            return False\n",
    "    return True\n",
    "print(any_lowercase5('banana'))\n",
    "print(any_lowercase5('bAnana'))\n",
    "print(any_lowercase5('Banana'))\n",
    "print(any_lowercase5('BANANA'))\n",
    "\n",
    "##See if the word has uppercase in it."
   ]
  },
  {
   "cell_type": "code",
   "execution_count": null,
   "id": "15533175",
   "metadata": {},
   "outputs": [],
   "source": [
    "def rotate_letter(letter, n):\n",
    "    if letter.isupper():\n",
    "        start = ord('A')\n",
    "    elif letter.islower():\n",
    "        start = ord('a')\n",
    "    else:\n",
    "        return letter\n",
    "\n",
    "    c = ord(letter) - start\n",
    "    i = (c + n) % 26 + start\n",
    "    return chr(i)\n",
    "def rotate_word(word, n):\n",
    "    res = ''\n",
    "    for letter in word:\n",
    "        res += rotate_letter(letter, n)\n",
    "    return res\n",
    "\n",
    "\n",
    "if __name__ == '__main__':\n",
    "    print(rotate_word('cheer', 7))\n",
    "    print(rotate_word('melon', -10))\n",
    "    print(rotate_word('sleep', 9))"
   ]
  }
 ],
 "metadata": {
  "kernelspec": {
   "display_name": "Python 3 (ipykernel)",
   "language": "python",
   "name": "python3"
  },
  "language_info": {
   "codemirror_mode": {
    "name": "ipython",
    "version": 3
   },
   "file_extension": ".py",
   "mimetype": "text/x-python",
   "name": "python",
   "nbconvert_exporter": "python",
   "pygments_lexer": "ipython3",
   "version": "3.9.7"
  }
 },
 "nbformat": 4,
 "nbformat_minor": 5
}
